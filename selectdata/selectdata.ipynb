{
 "cells": [
  {
   "cell_type": "code",
   "execution_count": 5,
   "metadata": {},
   "outputs": [
    {
     "name": "stderr",
     "output_type": "stream",
     "text": [
      "                                                                                \r"
     ]
    },
    {
     "name": "stdout",
     "output_type": "stream",
     "text": [
      "+---+-----------+--------+------+--------------+----------------+----+-----+---+\n",
      "| id|customer_id|model_id|amount|payment_method|transaction_type|year|month|day|\n",
      "+---+-----------+--------+------+--------------+----------------+----+-----+---+\n",
      "|  1|      15958|   16887|231.07|          Cash|         service|2023|   12| 23|\n",
      "|  2|      14000|   14726|428.33|          Cash|        purchase|2023|   12| 23|\n",
      "|  3|      10146|   17259|649.62|   Credit Card|         service|2023|   12| 23|\n",
      "|  4|      17700|   11491|643.55|    Debit Card|         service|2023|   12| 23|\n",
      "|  5|      11371|   11974|843.82|    Debit Card|        purchase|2023|   12| 23|\n",
      "|  6|      13397|   17958|689.99|          Cash|        purchase|2023|   12| 23|\n",
      "|  7|      12306|   11903|188.27|          Cash|         service|2023|   12| 23|\n",
      "|  8|      18099|   14193|129.59|          Cash|        purchase|2023|   12| 23|\n",
      "|  9|      12173|   18742|658.71|          Cash|         service|2023|   12| 23|\n",
      "| 10|      10287|   15422|489.98|   Credit Card|         service|2023|   12| 23|\n",
      "+---+-----------+--------+------+--------------+----------------+----+-----+---+\n",
      "only showing top 10 rows\n",
      "\n"
     ]
    }
   ],
   "source": [
    "from pyspark.sql import SparkSession\n",
    "from pyspark.sql.functions import col\n",
    "\n",
    "spark = SparkSession.builder.appName(\"Read from Data Lake\").getOrCreate()\n",
    "\n",
    "# Đọc dữ liệu từ Data Lake\n",
    "transaction_df = spark.read.parquet(\"hdfs://192.168.190.128:9000/datalake/Transactions\")\n",
    "\n",
    "# Tìm partition mới nhất (ngày mới nhất)\n",
    "latest_partition = transaction_df.selectExpr(\"max(year) as max_year\", \"max(month) as max_month\", \"max(day) as max_day\").collect()[0]\n",
    "\n",
    "max_year, max_month, max_day = latest_partition[\"max_year\"], latest_partition[\"max_month\"], latest_partition[\"max_day\"]\n",
    "\n",
    "# Lọc dữ liệu theo partition mới nhất\n",
    "latest_data = transaction_df.filter((col(\"year\") == max_year) & (col(\"month\") == max_month) & (col(\"day\") == max_day))\n",
    "\n",
    "# Hiển thị 10 dòng đầu tiên của dữ liệu mới nhất\n",
    "latest_data.show(10)\n"
   ]
  },
  {
   "cell_type": "code",
   "execution_count": 6,
   "metadata": {},
   "outputs": [
    {
     "name": "stderr",
     "output_type": "stream",
     "text": [
      "                                                                                \r"
     ]
    },
    {
     "data": {
      "text/plain": [
       "500000"
      ]
     },
     "execution_count": 6,
     "metadata": {},
     "output_type": "execute_result"
    }
   ],
   "source": [
    "latest_data.count()"
   ]
  },
  {
   "cell_type": "code",
   "execution_count": null,
   "metadata": {},
   "outputs": [
    {
     "name": "stdout",
     "output_type": "stream",
     "text": [
      "+-----------+---------------+--------+--------------------+---------+------+--------------------+-----------+------------+----------+\n",
      "|customer_id|  customer_name|model_id|          model_name|review_id|rating|             comment|review_year|review_month|review_day|\n",
      "+-----------+---------------+--------+--------------------+---------+------+--------------------+-----------+------------+----------+\n",
      "|          1|William Herrera|     616|Trevino, Phillips...|        1|     5|Traditional price...|       2023|          12|        31|\n",
      "|          3|   Angela Smith|     515|         Barrera Ltd|        2|     5|Mission year agen...|       2023|          12|        31|\n",
      "|          4|Alexandra Olson|    8489|     Holmes and Sons|        3|     3|Particular inform...|       2023|          12|        31|\n",
      "|          6|  Nicole Wright|    1380|           Lucas Ltd|        4|     4|Movement governme...|       2023|          12|        31|\n",
      "|          8|Sharon Griffith|    6300|Griffith, Wilson ...|        5|     1|Evidence simply w...|       2023|          12|        31|\n",
      "|          9| Denise Andrews|    5473|        Mcdonald Ltd|        6|     3|Price source impo...|       2023|          12|        31|\n",
      "|         10|  Alyssa Waters|    2955|        Nelson Group|        7|     1|Eye peace group h...|       2023|          12|        31|\n",
      "|         11|   Emily Jarvis|    8763|        Barker-Lopez|        8|     5|Hair must general...|       2023|          12|        31|\n",
      "|         12|     Thomas Lee|    7215|Newman, Wall and ...|        9|     3|Safe technology t...|       2023|          12|        31|\n",
      "|         13|Yvonne Cardenas|    9056|             Lee Inc|       10|     3|Resource tough wa...|       2023|          12|        31|\n",
      "+-----------+---------------+--------+--------------------+---------+------+--------------------+-----------+------------+----------+\n",
      "only showing top 10 rows\n",
      "\n"
     ]
    }
   ],
   "source": [
    "from pyspark.sql import SparkSession\n",
    "\n",
    "spark = SparkSession.builder.appName(\"Read from Data Warehouse\").getOrCreate()\n",
    "\n",
    "reviews_df = spark.read.parquet(\"hdfs://localhost:9000/warehouse/reviews_data_warehouse\")\n",
    "\n",
    "reviews_df.show(10)\n"
   ]
  },
  {
   "cell_type": "markdown",
   "metadata": {},
   "source": []
  },
  {
   "cell_type": "code",
   "execution_count": null,
   "metadata": {},
   "outputs": [],
   "source": []
  }
 ],
 "metadata": {
  "kernelspec": {
   "display_name": "Python 3",
   "language": "python",
   "name": "python3"
  },
  "language_info": {
   "codemirror_mode": {
    "name": "ipython",
    "version": 3
   },
   "file_extension": ".py",
   "mimetype": "text/x-python",
   "name": "python",
   "nbconvert_exporter": "python",
   "pygments_lexer": "ipython3",
   "version": "3.10.12"
  }
 },
 "nbformat": 4,
 "nbformat_minor": 2
}
